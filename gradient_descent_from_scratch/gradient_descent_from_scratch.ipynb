{
 "cells": [
  {
   "cell_type": "code",
   "execution_count": 1,
   "metadata": {},
   "outputs": [],
   "source": [
    "import jax\n",
    "import jax_metrics as jm\n",
    "import jax.numpy as jnp\n",
    "from jax import grad, jit, vmap\n",
    "from functools import partial\n",
    "from jax import random\n",
    "import os\n",
    "import numpy as np\n",
    "import matplotlib.pyplot as plt\n",
    "# Switch off the cache \n",
    "os.environ['XLA_PYTHON_CLIENT_PREALLOCATE'] = 'false'\n",
    "os.environ['XLA_PYTHON_CLIENT_ALLOCATOR'] = 'platform'"
   ]
  },
  {
   "cell_type": "code",
   "execution_count": 3,
   "metadata": {},
   "outputs": [
    {
     "name": "stdout",
     "output_type": "stream",
     "text": [
      "<class 'pandas.core.frame.DataFrame'>\n",
      "RangeIndex: 48842 entries, 0 to 48841\n",
      "Data columns (total 16 columns):\n",
      " #   Column          Non-Null Count  Dtype \n",
      "---  ------          --------------  ----- \n",
      " 0   id              48842 non-null  int64 \n",
      " 1   age             48842 non-null  int64 \n",
      " 2   workclass       46043 non-null  object\n",
      " 3   fnlwgt          48842 non-null  int64 \n",
      " 4   education       48842 non-null  object\n",
      " 5   education-num   48842 non-null  int64 \n",
      " 6   marital-status  48842 non-null  object\n",
      " 7   occupation      46033 non-null  object\n",
      " 8   relationship    48842 non-null  object\n",
      " 9   race            48842 non-null  object\n",
      " 10  sex             48842 non-null  object\n",
      " 11  capital-gain    48842 non-null  int64 \n",
      " 12  capital-loss    48842 non-null  int64 \n",
      " 13  hours-per-week  48842 non-null  int64 \n",
      " 14  native-country  47985 non-null  object\n",
      " 15  class           48842 non-null  object\n",
      "dtypes: int64(7), object(9)\n",
      "memory usage: 6.0+ MB\n"
     ]
    }
   ],
   "source": [
    "import pandas as pd\n",
    "import matplotlib.pyplot as plt\n",
    "\n",
    "\n",
    "data = pd.read_csv ('csv_result-phpMawTba 2.csv',na_values='?')   \n",
    "df = pd.DataFrame(data)\n",
    "df.info()\n",
    "\n",
    "\n",
    "\n",
    "\n",
    "\n"
   ]
  },
  {
   "attachments": {},
   "cell_type": "markdown",
   "metadata": {},
   "source": [
    "We clean our data\n",
    "======================="
   ]
  },
  {
   "cell_type": "code",
   "execution_count": 14,
   "metadata": {},
   "outputs": [
    {
     "name": "stdout",
     "output_type": "stream",
     "text": [
      "    id  age         workclass  fnlwgt     education  education-num  \\\n",
      "0    1   25           Private  226802          11th              7   \n",
      "1    2   38           Private   89814       HS-grad              9   \n",
      "2    3   28         Local-gov  336951    Assoc-acdm             12   \n",
      "3    4   44           Private  160323  Some-college             10   \n",
      "5    6   34           Private  198693          10th              6   \n",
      "7    8   63  Self-emp-not-inc  104626   Prof-school             15   \n",
      "8    9   24           Private  369667  Some-college             10   \n",
      "9   10   55           Private  104996       7th-8th              4   \n",
      "10  11   65           Private  184454       HS-grad              9   \n",
      "11  12   36       Federal-gov  212465     Bachelors             13   \n",
      "\n",
      "        marital-status         occupation   relationship   race     sex  \\\n",
      "0        Never-married  Machine-op-inspct      Own-child  Black    Male   \n",
      "1   Married-civ-spouse    Farming-fishing        Husband  White    Male   \n",
      "2   Married-civ-spouse    Protective-serv        Husband  White    Male   \n",
      "3   Married-civ-spouse  Machine-op-inspct        Husband  Black    Male   \n",
      "5        Never-married      Other-service  Not-in-family  White    Male   \n",
      "7   Married-civ-spouse     Prof-specialty        Husband  White    Male   \n",
      "8        Never-married      Other-service      Unmarried  White  Female   \n",
      "9   Married-civ-spouse       Craft-repair        Husband  White    Male   \n",
      "10  Married-civ-spouse  Machine-op-inspct        Husband  White    Male   \n",
      "11  Married-civ-spouse       Adm-clerical        Husband  White    Male   \n",
      "\n",
      "    capital-gain  capital-loss  hours-per-week native-country class  \n",
      "0              0             0              40  United-States     1  \n",
      "1              0             0              50  United-States     1  \n",
      "2              0             0              40  United-States    -1  \n",
      "3           7688             0              40  United-States    -1  \n",
      "5              0             0              30  United-States     1  \n",
      "7           3103             0              32  United-States    -1  \n",
      "8              0             0              40  United-States     1  \n",
      "9              0             0              10  United-States     1  \n",
      "10          6418             0              40  United-States    -1  \n",
      "11             0             0              40  United-States     1  \n"
     ]
    }
   ],
   "source": [
    "#first let's see a sample of our data\n",
    "print(df.head(10))"
   ]
  },
  {
   "cell_type": "code",
   "execution_count": null,
   "metadata": {},
   "outputs": [],
   "source": [
    "\n",
    "#from the last print we see that the missing values are labeled with the symbol '?'\n",
    "#so we remove the values with this symbol '?:\n",
    "df=df.dropna()\n",
    "\n",
    "\n",
    "\n",
    "#we separate the categorical variables one-hot encoding\n",
    "df_categorical=df[['workclass','education','marital-status','occupation','relationship','race','sex','native-country']]\n",
    "\n",
    "#we separate the columns with numerical values\n",
    "#checking by hand the significance of our columns we see that we have redundant columns so we keep only the relevant ones\n",
    "df_numerical=df[['age','education-num','capital-gain','capital-loss','hours-per-week']]\n",
    "\n",
    "columnas=[\"age\",\"education-num\",\"capital-gain\",\"capital-loss\",\"hours-per-week\"]\n",
    "for j in columnas:\n",
    "    df_numerical[j] = df_numerical[j] /df_numerical[j].abs().max()\n",
    "\n",
    "#and finally we split our data into two classes, people who earn less or equal that 50k and more than 50k\n",
    "df.loc[df[\"class\"] == \"<=50K\", \"class\"] = 1\n",
    "df.loc[df[\"class\"] == \">50K\", \"class\"] = -1\n",
    "\n",
    "\n"
   ]
  },
  {
   "attachments": {},
   "cell_type": "markdown",
   "metadata": {},
   "source": [
    "We perform a one hot encoder from scratch using pandas just for fun\n",
    "===================================================================="
   ]
  },
  {
   "cell_type": "code",
   "execution_count": 5,
   "metadata": {},
   "outputs": [],
   "source": [
    "\n",
    "renglones=df['race'].shape[0]\n",
    "columnas=df_categorical.shape[1]\n",
    "one_hot=np.zeros(renglones)\n",
    "\n",
    "col=0\n",
    "df2=pd.DataFrame()\n",
    "df3=pd.DataFrame()\n",
    "df3.insert(0,'1',one_hot)\n",
    "for k in range(0,columnas):\n",
    "    name=df_categorical.columns[k]\n",
    "    #print(name)\n",
    "    lista=[]\n",
    "    lista=df_categorical[name].values.tolist()\n",
    "    clases=df_categorical[name].unique() #an array of our different classes\n",
    "    size_clases=len(clases)\n",
    "    \n",
    "    \n",
    "    for i in range(size_clases):\n",
    "        clase=clases[i]\n",
    "        #print(clase)\n",
    "\n",
    "        for j in range(0,renglones):\n",
    "            if lista[j]==clase:\n",
    "                one_hot[j]=1  \n",
    "        \n",
    "        df2.insert(i,clase,one_hot)\n",
    "        \n",
    "        one_hot=np.zeros(renglones)\n",
    "    df3=df3.join(df2)\n",
    "    df2=pd.DataFrame()\n",
    "\n",
    "\n",
    "df3.to_csv('one_hot.csv')"
   ]
  },
  {
   "attachments": {},
   "cell_type": "markdown",
   "metadata": {},
   "source": [
    "And finally we concatenate and save into a final .csv file\n",
    "================================================================="
   ]
  },
  {
   "cell_type": "code",
   "execution_count": 16,
   "metadata": {},
   "outputs": [
    {
     "name": "stdout",
     "output_type": "stream",
     "text": [
      "este es el dataframe numerico             age  education-num  capital-gain  capital-loss  hours-per-week\n",
      "0      0.277778         0.4375      0.000000           0.0        0.404040\n",
      "1      0.422222         0.5625      0.000000           0.0        0.505051\n",
      "2      0.311111         0.7500      0.000000           0.0        0.404040\n",
      "3      0.488889         0.6250      0.076881           0.0        0.404040\n",
      "4      0.377778         0.3750      0.000000           0.0        0.303030\n",
      "...         ...            ...           ...           ...             ...\n",
      "45217  0.300000         0.7500      0.000000           0.0        0.383838\n",
      "45218  0.444444         0.5625      0.000000           0.0        0.404040\n",
      "45219  0.644444         0.5625      0.000000           0.0        0.404040\n",
      "45220  0.244444         0.5625      0.000000           0.0        0.202020\n",
      "45221  0.577778         0.5625      0.150242           0.0        0.404040\n",
      "\n",
      "[45222 rows x 5 columns]\n",
      "(45222, 106)\n"
     ]
    }
   ],
   "source": [
    "df_clase=df['class']\n",
    "df_clase=df_clase.reset_index()\n",
    "df_clase=df_clase.drop(['index'],axis=1)\n",
    "\n",
    "df_numerical=df_numerical.reset_index()\n",
    "df_numerical=df_numerical.drop(['index'],axis=1)\n",
    "print('este es el dataframe numerico',df_numerical)\n",
    "df3=df3.reset_index()\n",
    "frames=[df_clase,df_numerical,df3]\n",
    "\n",
    "df_final=pd.concat(frames,axis=1)\n",
    "df_final=df_final.drop(['index'],axis=1)\n",
    "print(df_final.shape)   \n",
    "\n",
    "df_final.to_csv('final.csv')\n"
   ]
  },
  {
   "attachments": {},
   "cell_type": "markdown",
   "metadata": {},
   "source": [
    "Now the neccesary functions to perform gradient descent from scratch\n",
    "========================================================================"
   ]
  },
  {
   "cell_type": "code",
   "execution_count": 7,
   "metadata": {},
   "outputs": [],
   "source": [
    "jax.config.update('jax_platform_name', 'cpu')\n",
    "class Linear_Model():\n",
    "    \"\"\"\n",
    "    Basic Linear Regression with Ridge Regression\n",
    "    \"\"\"\n",
    "    def __init__(self, dim: int) -> None:\n",
    "        self.dim = dim\n",
    "        self.key = random.PRNGKey(0)\n",
    "        self.cpus = jax.devices(\"cpu\")\n",
    "\n",
    "    @staticmethod\n",
    "    @jit\n",
    "    def linear_model(X: jnp, theta: jnp) -> jnp:\n",
    "        \"\"\"\n",
    "        Classic Linear Model. Jit has been used to accelerate the loops after the first one\n",
    "        for the Gradient Descent part\n",
    "        args:\n",
    "            X: Data array at the GPU or CPU\n",
    "            theta: Parameter w for weights and b for bias\n",
    "        returns:\n",
    "            f(x): the escalar estimation on vector x or the array of estimations\n",
    "        \"\"\"\n",
    "        w = theta[:-1]\n",
    "        b = theta[-1]\n",
    "        return jax.numpy.matmul(X, w) + b\n",
    "\n",
    "    def generate_theta(self):\n",
    "        \"\"\"\n",
    "        Use the random generator at Jax to generate a random generator to instanciate\n",
    "        the augmented values\n",
    "        \"\"\"\n",
    "        keys = random.split(self.key, 1)\n",
    "        return jax.numpy.vstack([random.normal(keys[0], (self.dim,1)), jax.numpy.array(0)])\n",
    "        \n",
    "    @partial(jit, static_argnums=(0,))\n",
    "    def LSE(self, theta: jnp, X: jnp, y: jnp)-> jnp:\n",
    "        \"\"\"\n",
    "        LSE in matrix form. We also use Jit por froze info at self to follow \n",
    "        the idea of functional programming on Jit for no side effects\n",
    "        args:\n",
    "            X: Data array at the GPU or CPU\n",
    "            theta: Parameter w for weights and b for bias\n",
    "            y: array of labels\n",
    "        returns:\n",
    "            the Loss function LSE under data X, labels y and theta initial estimation\n",
    "        \"\"\"\n",
    "        return (jax.numpy.transpose(y - self.linear_model(X, theta))@(y - self.linear_model(X, theta)))[0,0]\n",
    "\n",
    "    @partial(jit, static_argnums=(0,))\n",
    "    def update(self, theta: jnp, X: jnp, y: jnp, lr):\n",
    "        \"\"\"\n",
    "        Update makes use of the autograd at Jax to calculate the gradient descent.\n",
    "        args:\n",
    "            X: Data array at the GPU or CPU\n",
    "            theta: Parameter w for weights and b for bias\n",
    "            y: array of labels\n",
    "            lr: Learning rate for Gradient Descent\n",
    "        returns:\n",
    "            the step update w(n+1) = w(n)-δ(t)𝜵L(w(n))        \n",
    "        \"\"\"\n",
    "        return theta - lr * jax.grad(self.LSE)(theta, X, y)\n",
    "\n",
    "        \n",
    "    @partial(jit, static_argnums=(0,))\n",
    "    def estimate_grsl(self, X, theta):\n",
    "        \"\"\"\n",
    "        Estimation for the Gradient Descent version\n",
    "        args:\n",
    "            X: Data array at the GPU or CPU\n",
    "            theta: Parameter w for weights and b for bias\n",
    "        return:\n",
    "            Estimation of data X under linear model\n",
    "        \"\"\"\n",
    "        w = theta[:-1]\n",
    "        b = theta[-1]\n",
    "        return X@w+b\n",
    "    \n",
    "    def precision(self, y, y_hat):\n",
    "        \"\"\"\n",
    "        Precision\n",
    "        args:\n",
    "            y: Real Labels\n",
    "            y_hat: estimated labels\n",
    "        return TP/(TP+FP)\n",
    "        \"\"\"\n",
    "        TP=0\n",
    "        FP=0\n",
    "        for i in range(len(y)):\n",
    "            if(y_hat[i]>0 and y[i]>0):\n",
    "                TP+=1\n",
    "            if(y_hat[i]>0 and y[i]<0):\n",
    "                FP+=1\n",
    "\n",
    "        #TP = sum(y_hat[y>0]>0)\n",
    "        #FP = sum(y_hat[y>0]<0)\n",
    "        precision_cpu = jax.jit(lambda x: x, device=self.cpus[0])(TP/(TP+FP))\n",
    "        return float(precision_cpu)\n",
    "    def accuracy(self, y, y_hat):\n",
    "        \"\"\"\n",
    "        Precision\n",
    "        args:\n",
    "            y: Real Labels\n",
    "            y_hat: estimated labels\n",
    "        return TP/(TP+FP)\n",
    "        \"\"\"\n",
    "        TP=0\n",
    "        TN=0\n",
    "        FP=0\n",
    "        FN=0\n",
    "        for i in range(len(y)):\n",
    "            if(y_hat[i]>0 and y[i]>0) :\n",
    "                TP+=1\n",
    "            if(y_hat[i]<0 and y[i]<0):\n",
    "                TN+=1\n",
    "            if(y_hat[i]<0 and y[i]>0):\n",
    "                FN+=1\n",
    "            if(y_hat[i]>0 and y[i]<0):\n",
    "                FP+=1\n",
    "\n",
    "        #TP = sum(y_hat[y>0]>0)\n",
    "        #FP = sum(y_hat[y>0]<0)\n",
    "        accuracy_cpu = jax.jit(lambda x: x, device=self.cpus[0])((TP+TN)/(TP+FP+TN+FN))\n",
    "        return float(accuracy_cpu)\n",
    "    \n",
    "    \n",
    "    def gradient_descent(self, theta: jnp,  X: jnp, y: jnp, n_steps: int, lr = 0.001):\n",
    "        \"\"\"\n",
    "        Gradient Descent Loop for the LSE Linear Model\n",
    "        args:\n",
    "            X: Data array at the GPU or CPU\n",
    "            theta: Parameter w for weights and b for bias\n",
    "            y: array of labels\n",
    "            n_steps: number steps for the Gradient Loop\n",
    "            lr: Learning rate for Gradient Descent   \n",
    "        return:\n",
    "            Updated Theta\n",
    "        \"\"\"\n",
    "        for i in range(n_steps):\n",
    "            theta = self.update(theta, X, y, lr)\n",
    "        return theta\n",
    "    ######################################################################################################\n",
    "    #########REGULARIZED VERSION #################################\n",
    "\n",
    "    def generate_canonicalRidge_estimator(self, X: jnp, y:jnp,la:jnp) -> jnp:\n",
    "        \"\"\"\n",
    "        Cannonical LSE error solution for the Linearly separable classes \n",
    "        args:\n",
    "            X: Data array at the GPU or CPU\n",
    "            y: Label array at the GPU \n",
    "        returns:\n",
    "            w: Weight array at the GPU or CPU\n",
    "        \"\"\"\n",
    "        XX=jax.numpy.transpose(X)@X\n",
    "        dimension=int(jnp.shape(XX)[0])\n",
    "        I=jax.numpy.identity(dimension)\n",
    "        return  jax.numpy.linalg.inv(XX+la*I)@jax.numpy.transpose(X)@y\n",
    "    \n",
    "    @staticmethod\n",
    "    def estimate_cannonicalRidge(X: jnp, w: jnp)->jnp:\n",
    "        \"\"\"\n",
    "        Estimation for the Gradient Descent version\n",
    "        args:\n",
    "            X: Data array at the GPU or CPU\n",
    "            w: Parameter w under extended space\n",
    "        return:\n",
    "            Estimation of data X under cannonical solution\n",
    "        \"\"\"\n",
    "        return X@w"
   ]
  },
  {
   "cell_type": "markdown",
   "metadata": {},
   "source": []
  },
  {
   "attachments": {},
   "cell_type": "markdown",
   "metadata": {},
   "source": [
    "We load the clean data into jnp arrays\n",
    "==========================================="
   ]
  },
  {
   "cell_type": "code",
   "execution_count": 8,
   "metadata": {},
   "outputs": [],
   "source": [
    "\n",
    "X=df_final[df_final.columns[1:]].to_numpy()\n",
    "y=df_clase.to_numpy()\n",
    "y=y.astype(int)\n",
    "dim=int(X.shape[1])\n",
    "X=jax.numpy.asarray(X)\n",
    "y=jax.numpy.asarray(y)\n"
   ]
  },
  {
   "cell_type": "code",
   "execution_count": 9,
   "metadata": {},
   "outputs": [],
   "source": [
    "model=Linear_Model(dim)\n",
    "theta = model.generate_theta()\n",
    "theta = model.gradient_descent(theta, X, y, 10000, lr = 0.0000001)\n"
   ]
  },
  {
   "cell_type": "markdown",
   "metadata": {},
   "source": [
    "We estimate our prediction for the unregularized model and we calculate the usual metrics\n",
    "==================================================================="
   ]
  },
  {
   "cell_type": "code",
   "execution_count": 10,
   "metadata": {},
   "outputs": [
    {
     "name": "stdout",
     "output_type": "stream",
     "text": [
      "The accuracy is 0.7960000038146973\n",
      "The recall is 0.843137264251709\n"
     ]
    }
   ],
   "source": [
    "y_est=y[:500]\n",
    "X_est=X[:500]\n",
    "y_hat=model.estimate_grsl(X_est,theta)\n",
    "recall=model.precision(y_est,y_hat)\n",
    "accuracy=model.accuracy(y_est, y_hat)\n",
    "print('The accuracy is',accuracy)\n",
    "print('The recall is',recall)\n"
   ]
  },
  {
   "attachments": {},
   "cell_type": "markdown",
   "metadata": {},
   "source": [
    "Ridge Regularization\n",
    "=========================="
   ]
  },
  {
   "cell_type": "code",
   "execution_count": 11,
   "metadata": {},
   "outputs": [],
   "source": [
    "#first we need X regularized\n",
    "X_e = np.hstack([X_est, np.ones((500,1))])"
   ]
  },
  {
   "cell_type": "code",
   "execution_count": 13,
   "metadata": {},
   "outputs": [
    {
     "data": {
      "image/png": "[encoded data removed]",
      "text/plain": [
       "<Figure size 800x600 with 1 Axes>"
      ]
     },
     "metadata": {},
     "output_type": "display_data"
    }
   ],
   "source": [
    "#We search the regularization parameter lambrea in a grid  of data [0,0.5,1,...]\n",
    "l=0\n",
    "max_steps=25\n",
    "l_vec=np.zeros(int(max_steps))\n",
    "precision=np.zeros(int(max_steps))\n",
    "for i in range(max_steps):\n",
    "    l=l+0.01\n",
    "    l_vec[i]=l\n",
    "    wR = model.generate_canonicalRidge_estimator(X_e, y_est,l)\n",
    "    y_hatR = model.estimate_cannonicalRidge(X_e, wR)\n",
    "    precision[i]=model.precision(y_est, y_hatR)\n",
    "    \n",
    "\n",
    "plt.figure(figsize=(8, 6))  # Adjust the figure size as needed\n",
    "plt.plot(l_vec, precision, marker='o', linestyle='-', color='b', markersize=8, label='Precision')\n",
    "plt.xlabel('λ (Lambda)')\n",
    "plt.ylabel('Precision')\n",
    "plt.title('Precision vs. Lambda')\n",
    "plt.grid(True)  # Add a grid\n",
    "plt.legend(loc='best')  # Show the legend\n",
    "\n",
    "\n",
    "\n",
    "\n",
    "# Save or display the plot\n",
    "plt.tight_layout()  # Ensures labels are not cut off\n",
    "plt.savefig('precision_vs_lambda.png')  # Save the figure as an image\n",
    "plt.show()\n"
   ]
  }
 ],
 "metadata": {
  "kernelspec": {
   "display_name": "Python 3",
   "language": "python",
   "name": "python3"
  },
  "language_info": {
   "codemirror_mode": {
    "name": "ipython",
    "version": 3
   },
   "file_extension": ".py",
   "mimetype": "text/x-python",
   "name": "python",
   "nbconvert_exporter": "python",
   "pygments_lexer": "ipython3",
   "version": "3.10.5"
  },
  "orig_nbformat": 4,
  "vscode": {
   "interpreter": {
    "hash": "204b973de28be2f053450059895fb876f6b1718ca01aa708473ad2968cb937fd"
   }
  }
 },
 "nbformat": 4,
 "nbformat_minor": 2
}
