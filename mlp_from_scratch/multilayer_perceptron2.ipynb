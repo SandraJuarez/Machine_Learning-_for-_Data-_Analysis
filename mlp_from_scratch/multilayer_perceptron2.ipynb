{
 "cells": [
  {
   "cell_type": "code",
   "execution_count": 31,
   "metadata": {},
   "outputs": [],
   "source": [
    "#import jax\n",
    "#import jax_metrics as jm\n",
    "#import jax.numpy as jnp\n",
    "#from jax import grad, jit, vmap\n",
    "#from functools import partial\n",
    "\n",
    "\n",
    "#from jax import random\n",
    "import os\n",
    "import numpy as jnp\n",
    "import matplotlib.pyplot as plt# Switch off the cache \n",
    "from sklearn.metrics import confusion_matrix \n",
    "os.environ['XLA_PYTHON_CLIENT_PREALLOCATE'] = 'false'\n",
    "os.environ['XLA_PYTHON_CLIENT_ALLOCATOR'] = 'platform'"
   ]
  },
  {
   "cell_type": "code",
   "execution_count": 32,
   "metadata": {},
   "outputs": [],
   "source": [
    "\n",
    "    \n",
    "#tenemos la matriz de pesos. Como tenemos la capa de input y una hidden, por eso tenemos dos pessos y dos bias\n",
    "def retreive(model_dict):\n",
    "    w1=model_dict['w1']\n",
    "    b1=model_dict['b1']\n",
    "    w2=model_dict['w2']\n",
    "    b2=model_dict['b2']\n",
    "    return w1,b1,w2,b2\n",
    "\n",
    "\n",
    "\n",
    "    \n",
    "def generate_w(k_classes, inpt_size,samples,hidden):\n",
    "    \"\"\"\n",
    "    Use the random generator at Jax to generate a random generator to initialize the network\n",
    "    \"\"\"\n",
    "    model={}\n",
    "    #key = random.PRNGKey(0)\n",
    "    #keys = random.split(key, 2)\n",
    "    #w1=jnp.array(random.normal(keys[0], (hidden,inpt_size )))\n",
    "    w1=jnp.random.rand(hidden,inpt_size)\n",
    "    w2=jnp.random.rand(k_classes,hidden)\n",
    "    #w1=(w1-jnp.min(w1))/(jnp.max(w1)-jnp.min(w1))\n",
    "    #w2=jnp.array(random.normal(keys[1], (k_classes,hidden)))\n",
    "    #w2=(w2-jnp.min(w2))/(jnp.max(w2)-jnp.min(w2))\n",
    "    b1=jnp.zeros((hidden,1))\n",
    "    b2=jnp.zeros((k_classes,1))\n",
    "    model['w1']=w1\n",
    "    model['b1']=b1\n",
    "    model['w2']=w2\n",
    "    model['b2']=b2\n",
    "    return model \n",
    "\n",
    "def forward(x,model_dict):\n",
    "    w1,b1,w2,b2=retreive(model_dict)\n",
    "    #input to hidden\n",
    "    z1=w1@x +b1#size -> (hidden,samples)\n",
    "    a1=jnp.tanh(z1)\n",
    "    #hidden to output\n",
    "    z2=w2@a1+b2 #size -> (classes,samples) ****\n",
    "  \n",
    "\n",
    "    #and let's calculate the softmax applied to a2 because we'll need it in cross-entropy\n",
    "    soft=jnp.exp(z2)/jnp.sum(jnp.exp(z2),axis=0) #size -> (classes, samples)\n",
    "\n",
    "    return z1,a1,soft\n",
    "\n",
    "def loss_function(y,soft):\n",
    "    #loss=jnp.mean(jnp.sum(-y*jnp.log(soft),axis=0)) #loss is a number\n",
    "    loss=jnp.mean(-y*jnp.log(soft))\n",
    "    return loss\n",
    "\n",
    "def backpropagation(x,y,model_dict,samples,learning_rate):\n",
    "    w1,b1,w2,b2=retreive(model_dict) \n",
    "    z1,a1,soft=forward(x,model_dict)\n",
    "    \n",
    "    #output to hidden\n",
    "    #first, lets calculate error\n",
    "    dz2=soft-y #size -> (classes, samples)\n",
    "    \n",
    "    #now we calculate the derivative\n",
    "    dw2=(1/samples)*dz2@jnp.transpose(a1) #size -> (classes, hidden)\n",
    "    \n",
    "    db2=(1/samples)*jnp.sum(dz2) #size -> (classes, 1)\n",
    "\n",
    "    #hidden to input\n",
    "    #first we calculate error\n",
    "   \n",
    "    dz1=(jnp.transpose(w2)@dz2)*(1-jnp.power(jnp.tanh(z1),2)) #size -> (hidden,samples)\n",
    "    dw1=(1/samples)*dz1@jnp.transpose(x) #size -> (hidden,input)\n",
    "    db1=(1/samples)*jnp.sum(dz1)\n",
    "    \n",
    "\n",
    "    w1+=-learning_rate*dw1\n",
    "    b1+=-learning_rate*db1\n",
    "    w2+=-learning_rate*dw2\n",
    "    b2+=-learning_rate*db2\n",
    "    \n",
    "    #actualizamos el model\n",
    "    model_dict={'w1':w1,'b1':b1,'w2':w2,'b2':b2}\n",
    "\n",
    "    return model_dict\n",
    "\n",
    "def prediction(soft): \n",
    "    return jnp.argmax(soft,axis=0)\n",
    "\n",
    "def get_pr(k_classes,samples,clases,y0,y_hat):\n",
    "    FP=0\n",
    "    FN=0\n",
    "    TP=0\n",
    "    recall_list=[]\n",
    "    precision_list=[]\n",
    "    for k in range(k_classes):\n",
    "        for i in range (samples):\n",
    "            if y0[i]==clases[k] and y_hat[i]==clases[k]:\n",
    "                TP+=1\n",
    "            if y0[i]!=clases[k] and y_hat[i] == clases[k]:\n",
    "                FP+=1\n",
    "            if y0[i]==clases[k] and y_hat[i] != clases[k]:\n",
    "                FN+=1\n",
    "        if FP+TP!=0:\n",
    "            precision_list.append(TP/(TP+FP))\n",
    "        else:\n",
    "            precision_list.append(0)\n",
    "        if FN+TP!=0:\n",
    "            recall_list.append(TP/(TP+FN))\n",
    "        else:\n",
    "            recall_list.append(0)\n",
    "\n",
    "        \n",
    "        \n",
    "   \n",
    "    precision=sum(precision_list)/k_classes\n",
    "    recall=sum(recall_list)/k_classes\n",
    "    return precision,recall\n",
    "\n",
    "\n",
    "\n",
    "\n",
    "\n",
    "\n",
    "\n",
    "\n",
    "def get_accuracy(predictions, Y):\n",
    "    #print(predictions, Y)\n",
    "    return jnp.sum(predictions == Y) / Y.size\n",
    "\n",
    "\n",
    "def modelo(x,y,samples,learning_rate,max_step,k_classes,inpt_size,hidden,y_0,clases,stop):\n",
    "    model_dict=generate_w(k_classes, inpt_size,samples,hidden)\n",
    "    precision_list=[]\n",
    "    recall_list=[]\n",
    "    loss_list=[]\n",
    "    loss=1\n",
    "    for i in range(max_step):\n",
    "        model_dict=backpropagation(x,y,model_dict,samples,learning_rate)\n",
    "        soft=forward(x,model_dict)[2]\n",
    "        old_loss=loss\n",
    "        loss=loss_function(y,soft)\n",
    "        loss_list.append(loss)\n",
    "        \n",
    "        if i%10==0:\n",
    "            y_hat=prediction(soft)\n",
    "            precision,recall=get_pr(k_classes,samples,clases,y_0,y_hat)\n",
    "            precision_list.append(precision)\n",
    "            recall_list.append(recall)\n",
    "            \n",
    "            ac=get_accuracy(y_hat,y_0)\n",
    "            #print('La función de loss en la epoca {} es {:.3f}%, con un accuracy de {:.3f}%'\n",
    "             #     .format(i,loss,ac))\n",
    "            \n",
    "            print(loss,i,precision,recall,ac)\n",
    "\n",
    "        if  jnp.abs(loss-old_loss)<stop:\n",
    "            \n",
    "            break\n",
    "    \n",
    "        \n",
    "    return recall_list,precision_list,loss_list,y_hat\n",
    "\n",
    "def graficar_pr(recall_list,precision_list):\n",
    "    plt.style.use('rose-pine')\n",
    "    plt.plot(recall_list,precision_list,color='#fb9f9f',marker='*')\n",
    "    plt.xlabel('Recall')\n",
    "    plt.ylabel('Precision')\n",
    "    plt.title('Precision-Recall curve')\n",
    "    plt.show()\n",
    "\n",
    "def graficar_rc(loss_list):\n",
    "    plt.style.use('rose-pine')\n",
    "    plt.plot(loss_list,color='#fb9f9f')\n",
    "    plt.xlabel('Epoch')\n",
    "    plt.ylabel('Loss')\n",
    "    plt.title('Rate of Convergency')\n",
    "    plt.show()\n",
    "            \n",
    "\n",
    "\n",
    "\n"
   ]
  },
  {
   "cell_type": "code",
   "execution_count": 33,
   "metadata": {},
   "outputs": [
    {
     "name": "stdout",
     "output_type": "stream",
     "text": [
      "[0 1 0 0 1 0 0 0 1 1 1 1 1 0 0 1 1 0 0 0 1 1 1 0 1 1 1 1 1 1 1 1 0 0 1 0 0\n",
      " 1 1 1 0 0 0 0 1 1 1 0 1 1 0 1 1 0 1 1 0 0 0 1 1 1 1 0 0 1 1 0 0 1 0 1 0 1\n",
      " 1 0 0 0 0 0 1 0 0 0 0 0 0 0 0 1 0 1 1 1 0 0 0 0 1 0 1 1 0 0 1 1 1 0 1 0 0\n",
      " 0 1 1 0 1 1 1 1 0 1 0 1 0 0 0 0 0 0 0 0 1 1 1 0 1 0 0 1 1 0 1 1 1 0 0 0 0\n",
      " 0 1 1 0 0 0 0 0 0 0 0 0 0 1 0 1 1 1 1 0 1 1 1 0 1 0 0 1 0 1 1 1 1 1 0 1 1\n",
      " 0 1 0 1 1 0 1 1 1 1 1 0 0 0 1]\n"
     ]
    }
   ],
   "source": [
    "#before trying with MNIST lets try with something simpller\n",
    "import sklearn.datasets\n",
    "x,y=sklearn.datasets.make_moons(200,noise=0.15) #x are inputs and y are the expected labels\n",
    "print(y)\n",
    "x=jnp.transpose(x) #because we wrote the equations thinking that sizeX=(features,samples)\n",
    "y=jnp.transpose(y)\n",
    "y_0=y"
   ]
  },
  {
   "cell_type": "code",
   "execution_count": 34,
   "metadata": {},
   "outputs": [
    {
     "name": "stdout",
     "output_type": "stream",
     "text": [
      "y\n",
      "0\n",
      "1\n"
     ]
    }
   ],
   "source": [
    "import pandas as pd\n",
    "df=pd.DataFrame(y,columns=['y'])\n",
    "renglones=df['y'].shape[0]\n",
    "df_categorical=df[['y']]\n",
    "columnas=df_categorical.shape[1]\n",
    "one_hot=jnp.zeros(renglones)\n",
    "\n",
    "col=0\n",
    "df2=pd.DataFrame()\n",
    "df3=pd.DataFrame()\n",
    "df3.insert(0,'1',one_hot)\n",
    "for k in range(0,columnas):\n",
    "    name=df_categorical.columns[k]\n",
    "    print(name)\n",
    "    lista=[]\n",
    "    lista=df_categorical[name].values.tolist()\n",
    "    clases=df_categorical[name].unique() #un array de las distintas clases\n",
    "    size_clases=len(clases)\n",
    "    \n",
    "    \n",
    "    for i in range(size_clases):\n",
    "        clase=clases[i]\n",
    "        print(clase)\n",
    "\n",
    "        for j in range(0,renglones):\n",
    "            if lista[j]==clase:\n",
    "                one_hot[j]=1  \n",
    "        \n",
    "        df2.insert(i,clase,one_hot)\n",
    "        \n",
    "        one_hot=jnp.zeros(renglones)\n",
    "    df3=df3.join(df2)\n",
    "    df2=pd.DataFrame()\n",
    "del df3[df3.columns[0]]\n",
    "y=df3.to_numpy()\n",
    "y=jnp.transpose(y)\n",
    "\n"
   ]
  },
  {
   "cell_type": "code",
   "execution_count": 47,
   "metadata": {},
   "outputs": [
    {
     "name": "stdout",
     "output_type": "stream",
     "text": [
      "la shape dey (2, 200)\n",
      "0.32333738817011975 0 0.7221739130434783 0.505 0.64\n",
      "0.24675560261923762 10 0.7654166666666666 0.75 0.76\n",
      "0.19312075162846473 20 0.8206603773584906 0.845 0.83\n",
      "0.17014374094491672 30 0.8631930693069307 0.8674999999999999 0.865\n",
      "0.16117353514760235 40 0.8731435643564356 0.8775 0.875\n",
      "0.15771522776944524 50 0.8768939393939394 0.8725 0.875\n",
      "0.1562772481141434 60 0.8768939393939394 0.8725 0.875\n",
      "0.15559306425159952 70 0.8768939393939394 0.8725 0.875\n",
      "0.15520886503027367 80 0.8768939393939394 0.8725 0.875\n",
      "0.15495379063179834 90 0.8768939393939394 0.8725 0.875\n",
      "0.15475974440520524 100 0.8737755102040816 0.865 0.87\n",
      "0.15459789574454702 110 0.8737755102040816 0.865 0.87\n",
      "0.15445513722187246 120 0.8737755102040816 0.865 0.87\n",
      "0.15432498030217012 130 0.8737755102040816 0.865 0.87\n",
      "0.15420389813314495 140 0.8737755102040816 0.865 0.87\n",
      "0.15408979324354607 150 0.8737755102040816 0.865 0.87\n",
      "0.15398132004573956 160 0.8737755102040816 0.865 0.87\n",
      "0.15387756367895292 170 0.8737755102040816 0.865 0.87\n"
     ]
    },
    {
     "data": {
      "image/png": "[encoded data removed]",
      "text/plain": [
       "<Figure size 640x480 with 1 Axes>"
      ]
     },
     "metadata": {},
     "output_type": "display_data"
    },
    {
     "data": {
      "image/png": "[encoded data removed]",
      "text/plain": [
       "<Figure size 640x480 with 1 Axes>"
      ]
     },
     "metadata": {},
     "output_type": "display_data"
    },
    {
     "data": {
      "text/plain": [
       "array([[86, 14],\n",
       "       [12, 88]], dtype=int64)"
      ]
     },
     "execution_count": 47,
     "metadata": {},
     "output_type": "execute_result"
    }
   ],
   "source": [
    "#Now, we define the parameters for our neural network\n",
    "samples=200\n",
    "clases=jnp.array([0,1])\n",
    "learning_rate=0.1\n",
    "max_step=10000\n",
    "k_classes=2\n",
    "inpt_size=2\n",
    "hidden=3\n",
    "stop=0.00001\n",
    "print('la shape dey',y.shape)\n",
    "recall_list,precision_list,loss_list,y_hat=modelo(x,y,samples,learning_rate,max_step,k_classes,inpt_size,hidden,y_0,clases,stop)\n",
    "graficar_pr(recall_list,precision_list)\n",
    "graficar_rc(loss_list)\n",
    "confusion_matrix(y_0,y_hat)\n"
   ]
  },
  {
   "cell_type": "code",
   "execution_count": 36,
   "metadata": {},
   "outputs": [],
   "source": [
    "import tensorflow as tf\n",
    "tf.config.set_visible_devices([], device_type='GPU')\n",
    "import tensorflow_datasets as tfds\n",
    "data_dir = '/home/remote_code/Jax_Excercises/tfds'\n",
    "#C:/Users/52333/Documents\\doctorado\\ml-md\\tarea5\\tfds"
   ]
  },
  {
   "cell_type": "code",
   "execution_count": 37,
   "metadata": {},
   "outputs": [],
   "source": [
    "mnist_data, info = tfds.load(name=\"mnist\", batch_size=-1, data_dir=data_dir, with_info=True)\n",
    "mnist_data = tfds.as_numpy(mnist_data)\n",
    "train_data, test_data = mnist_data['train'], mnist_data['test']"
   ]
  },
  {
   "cell_type": "code",
   "execution_count": 38,
   "metadata": {},
   "outputs": [],
   "source": [
    "num_labels = info.features['label'].num_classes\n",
    "h, w, c = info.features['image'].shape\n",
    "num_pixels = h * w * c"
   ]
  },
  {
   "cell_type": "code",
   "execution_count": 39,
   "metadata": {},
   "outputs": [],
   "source": [
    "train_images, train_labels = train_data['image'], train_data['label']\n",
    "train_images = jnp.reshape(train_images, (len(train_images), num_pixels))\n"
   ]
  },
  {
   "cell_type": "code",
   "execution_count": 40,
   "metadata": {},
   "outputs": [],
   "source": [
    "def one_hot(x, k, dtype=jnp.float32):\n",
    "    \"\"\"Create a one-hot encoding of x of size k.\"\"\"\n",
    "    return jnp.array(x[:, None] == jnp.arange(k), dtype)\n"
   ]
  },
  {
   "cell_type": "code",
   "execution_count": 41,
   "metadata": {},
   "outputs": [
    {
     "name": "stdout",
     "output_type": "stream",
     "text": [
      "(60000, 784)\n"
     ]
    }
   ],
   "source": [
    "train_images, train_labels = train_data['image'], train_data['label']\n",
    "train_images = jnp.reshape(train_images, (len(train_images), num_pixels))\n",
    "train_labels_hot = one_hot(train_labels, num_labels)\n",
    "print(train_images.shape)"
   ]
  },
  {
   "cell_type": "code",
   "execution_count": 42,
   "metadata": {},
   "outputs": [],
   "source": [
    "test_images, test_labels = test_data['image'], test_data['label']\n",
    "test_images = jnp.reshape(test_images, (len(test_images), num_pixels))\n",
    "test_labels_hot = one_hot(test_labels, num_labels)"
   ]
  },
  {
   "cell_type": "code",
   "execution_count": 43,
   "metadata": {},
   "outputs": [
    {
     "name": "stdout",
     "output_type": "stream",
     "text": [
      "(784, 60000)\n"
     ]
    }
   ],
   "source": [
    "train_images=jnp.transpose(train_images)\n",
    "print(train_images.shape)\n",
    "train_labels=jnp.transpose(train_labels)\n",
    "train_labels_hot=jnp.transpose(train_labels_hot)\n",
    "test_images=jnp.transpose(test_images)\n",
    "test_labels=jnp.transpose(test_labels)\n",
    "test_labels_hot=jnp.transpose(test_labels_hot)\n"
   ]
  },
  {
   "cell_type": "code",
   "execution_count": 51,
   "metadata": {},
   "outputs": [
    {
     "name": "stdout",
     "output_type": "stream",
     "text": [
      "60000\n",
      "0.2579317894231761 0 0.10113000000000003 0.21120125187002511 0.11236666666666667\n",
      "0.23259981488461942 10 0.10113000000000003 0.21120125187002511 0.11236666666666667\n",
      "0.2325727515623458 20 0.10113000000000003 0.21120125187002511 0.11236666666666667\n",
      "0.23267246826649635 30 0.10113000000000003 0.21120125187002511 0.11236666666666667\n"
     ]
    },
    {
     "ename": "KeyboardInterrupt",
     "evalue": "",
     "output_type": "error",
     "traceback": [
      "\u001b[1;31m---------------------------------------------------------------------------\u001b[0m",
      "\u001b[1;31mKeyboardInterrupt\u001b[0m                         Traceback (most recent call last)",
      "Cell \u001b[1;32mIn[51], line 10\u001b[0m\n\u001b[0;32m      8\u001b[0m hidden\u001b[39m=\u001b[39m\u001b[39m10\u001b[39m\n\u001b[0;32m      9\u001b[0m stop\u001b[39m=\u001b[39m\u001b[39m0.00001\u001b[39m\n\u001b[1;32m---> 10\u001b[0m recall_list,precision_list,loss_list,y_hat\u001b[39m=\u001b[39mneural_net\u001b[39m=\u001b[39mmodelo(train_images,train_labels_hot,samples,learning_rate,max_step,k_classes,inpt_size,hidden,train_labels,clases,stop)\n\u001b[0;32m     11\u001b[0m graficar_pr(recall_list,precision_list)\n\u001b[0;32m     12\u001b[0m graficar_rc(loss_list)\n",
      "Cell \u001b[1;32mIn[32], line 135\u001b[0m, in \u001b[0;36mmodelo\u001b[1;34m(x, y, samples, learning_rate, max_step, k_classes, inpt_size, hidden, y_0, clases, stop)\u001b[0m\n\u001b[0;32m    133\u001b[0m loss\u001b[39m=\u001b[39m\u001b[39m1\u001b[39m\n\u001b[0;32m    134\u001b[0m \u001b[39mfor\u001b[39;00m i \u001b[39min\u001b[39;00m \u001b[39mrange\u001b[39m(max_step):\n\u001b[1;32m--> 135\u001b[0m     model_dict\u001b[39m=\u001b[39mbackpropagation(x,y,model_dict,samples,learning_rate)\n\u001b[0;32m    136\u001b[0m     soft\u001b[39m=\u001b[39mforward(x,model_dict)[\u001b[39m2\u001b[39m]\n\u001b[0;32m    137\u001b[0m     old_loss\u001b[39m=\u001b[39mloss\n",
      "Cell \u001b[1;32mIn[32], line 70\u001b[0m, in \u001b[0;36mbackpropagation\u001b[1;34m(x, y, model_dict, samples, learning_rate)\u001b[0m\n\u001b[0;32m     68\u001b[0m dz1\u001b[39m=\u001b[39m(jnp\u001b[39m.\u001b[39mtranspose(w2)\u001b[39m@dz2\u001b[39m)\u001b[39m*\u001b[39m(\u001b[39m1\u001b[39m\u001b[39m-\u001b[39mjnp\u001b[39m.\u001b[39mpower(jnp\u001b[39m.\u001b[39mtanh(z1),\u001b[39m2\u001b[39m)) \u001b[39m#size -> (hidden,samples)\u001b[39;00m\n\u001b[0;32m     69\u001b[0m dw1\u001b[39m=\u001b[39m(\u001b[39m1\u001b[39m\u001b[39m/\u001b[39msamples)\u001b[39m*\u001b[39mdz1\u001b[39m@jnp\u001b[39m\u001b[39m.\u001b[39mtranspose(x) \u001b[39m#size -> (hidden,input)\u001b[39;00m\n\u001b[1;32m---> 70\u001b[0m db1\u001b[39m=\u001b[39m(\u001b[39m1\u001b[39m\u001b[39m/\u001b[39msamples)\u001b[39m*\u001b[39mjnp\u001b[39m.\u001b[39;49msum(dz1)\n\u001b[0;32m     73\u001b[0m w1\u001b[39m+\u001b[39m\u001b[39m=\u001b[39m\u001b[39m-\u001b[39mlearning_rate\u001b[39m*\u001b[39mdw1\n\u001b[0;32m     74\u001b[0m b1\u001b[39m+\u001b[39m\u001b[39m=\u001b[39m\u001b[39m-\u001b[39mlearning_rate\u001b[39m*\u001b[39mdb1\n",
      "File \u001b[1;32m<__array_function__ internals>:180\u001b[0m, in \u001b[0;36msum\u001b[1;34m(*args, **kwargs)\u001b[0m\n",
      "File \u001b[1;32mc:\\Users\\52333\\AppData\\Local\\Programs\\Python\\Python310\\lib\\site-packages\\numpy\\core\\fromnumeric.py:2298\u001b[0m, in \u001b[0;36msum\u001b[1;34m(a, axis, dtype, out, keepdims, initial, where)\u001b[0m\n\u001b[0;32m   2295\u001b[0m         \u001b[39mreturn\u001b[39;00m out\n\u001b[0;32m   2296\u001b[0m     \u001b[39mreturn\u001b[39;00m res\n\u001b[1;32m-> 2298\u001b[0m \u001b[39mreturn\u001b[39;00m _wrapreduction(a, np\u001b[39m.\u001b[39;49madd, \u001b[39m'\u001b[39;49m\u001b[39msum\u001b[39;49m\u001b[39m'\u001b[39;49m, axis, dtype, out, keepdims\u001b[39m=\u001b[39;49mkeepdims,\n\u001b[0;32m   2299\u001b[0m                       initial\u001b[39m=\u001b[39;49minitial, where\u001b[39m=\u001b[39;49mwhere)\n",
      "File \u001b[1;32mc:\\Users\\52333\\AppData\\Local\\Programs\\Python\\Python310\\lib\\site-packages\\numpy\\core\\fromnumeric.py:86\u001b[0m, in \u001b[0;36m_wrapreduction\u001b[1;34m(obj, ufunc, method, axis, dtype, out, **kwargs)\u001b[0m\n\u001b[0;32m     83\u001b[0m         \u001b[39melse\u001b[39;00m:\n\u001b[0;32m     84\u001b[0m             \u001b[39mreturn\u001b[39;00m reduction(axis\u001b[39m=\u001b[39maxis, out\u001b[39m=\u001b[39mout, \u001b[39m*\u001b[39m\u001b[39m*\u001b[39mpasskwargs)\n\u001b[1;32m---> 86\u001b[0m \u001b[39mreturn\u001b[39;00m ufunc\u001b[39m.\u001b[39mreduce(obj, axis, dtype, out, \u001b[39m*\u001b[39m\u001b[39m*\u001b[39mpasskwargs)\n",
      "\u001b[1;31mKeyboardInterrupt\u001b[0m: "
     ]
    }
   ],
   "source": [
    "samples=train_images.shape[1]\n",
    "print(samples)\n",
    "clases=jnp.array([0,1,2,3,4,5,6,7,8,9])\n",
    "learning_rate=2\n",
    "max_step=10000\n",
    "k_classes=10\n",
    "inpt_size=784\n",
    "hidden=10\n",
    "stop=0.00001\n",
    "recall_list,precision_list,loss_list,y_hat=neural_net=modelo(train_images,train_labels_hot,samples,learning_rate,max_step,k_classes,inpt_size,hidden,train_labels,clases,stop)\n",
    "graficar_pr(recall_list,precision_list)\n",
    "graficar_rc(loss_list)\n",
    "confusion_matrix(y_0,y_hat)"
   ]
  }
 ],
 "metadata": {
  "kernelspec": {
   "display_name": "Python 3",
   "language": "python",
   "name": "python3"
  },
  "language_info": {
   "codemirror_mode": {
    "name": "ipython",
    "version": 3
   },
   "file_extension": ".py",
   "mimetype": "text/x-python",
   "name": "python",
   "nbconvert_exporter": "python",
   "pygments_lexer": "ipython3",
   "version": "3.10.5"
  },
  "orig_nbformat": 4
 },
 "nbformat": 4,
 "nbformat_minor": 2
}
